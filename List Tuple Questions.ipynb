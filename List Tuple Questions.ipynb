{
 "cells": [
  {
   "cell_type": "markdown",
   "id": "54ac54b0",
   "metadata": {},
   "source": [
    "#### Lists and Tuples: \n",
    "Both lists and tuples are versatile data structures in Python, but they have key differences. Lists are mutable, allowing changes after creation, while tuples are fixed and immutable. Lists are declared with square brackets, while tuples use parentheses. Although both offer element access through indexing, lists offer diverse operations like adding, removing, and sorting, while tuples are limited due to their immutability. Choose lists for dynamic data needing manipulation, and tuples for fixed data where modifications are unnecessary."
   ]
  },
  {
   "cell_type": "markdown",
   "id": "8d9d319e",
   "metadata": {},
   "source": [
    "# List"
   ]
  },
  {
   "cell_type": "markdown",
   "id": "d66c11a7",
   "metadata": {},
   "source": [
    "#### Q1: How to declare a list"
   ]
  },
  {
   "cell_type": "code",
   "execution_count": 2,
   "id": "c98813c4",
   "metadata": {},
   "outputs": [
    {
     "name": "stdout",
     "output_type": "stream",
     "text": [
      "[]\n"
     ]
    }
   ],
   "source": [
    "# we can declare a list with [] square brakets\n",
    "emptyList = []\n",
    "print(f\"{emptyList}\")"
   ]
  },
  {
   "cell_type": "markdown",
   "id": "4d494f14",
   "metadata": {},
   "source": [
    "#### Q2:Declare a list of containing different fruit names"
   ]
  },
  {
   "cell_type": "code",
   "execution_count": 4,
   "id": "4b0351d2",
   "metadata": {},
   "outputs": [
    {
     "name": "stdout",
     "output_type": "stream",
     "text": [
      "List of Fruits --> ['Apple', 'Banana', 'Cherry', 'Mango', 'Pinneapple']\n"
     ]
    }
   ],
   "source": [
    "Fruits = [\"Apple\" , \"Banana\", \"Cherry\",\"Mango\", \"Pinneapple\"]\n",
    "print(f\"List of Fruits --> {Fruits}\")"
   ]
  },
  {
   "cell_type": "markdown",
   "id": "52efaa1d",
   "metadata": {},
   "source": [
    "#### Q3:Declare a list containing different data-types in it"
   ]
  },
  {
   "cell_type": "code",
   "execution_count": 65,
   "id": "0fe31952",
   "metadata": {},
   "outputs": [
    {
     "name": "stdout",
     "output_type": "stream",
     "text": [
      "['Fruits', 4, False, True, 40.6, 'Vegetables']\n"
     ]
    }
   ],
   "source": [
    "listOfData= [\"Fruits\", 4, False, True, 40.6, \"Vegetables\"]\n",
    "print(listOfData)\n"
   ]
  },
  {
   "cell_type": "markdown",
   "id": "9c221e2f",
   "metadata": {},
   "source": [
    "#### Q4:write down the code to check a particular element in the list"
   ]
  },
  {
   "cell_type": "code",
   "execution_count": 1,
   "id": "e7d14504",
   "metadata": {},
   "outputs": [
    {
     "name": "stdout",
     "output_type": "stream",
     "text": [
      "40.6 is present in the list.\n"
     ]
    }
   ],
   "source": [
    "listOfData= [\"Fruits\", 4, False, True, 40.6, \"Vegetables\"]\n",
    "checkElement = 40.6\n",
    "if checkElement in listOfData:\n",
    " print(checkElement, \"is present in the list.\")\n",
    "else:\n",
    " print(checkElement, \"is not present in the list.\")"
   ]
  },
  {
   "cell_type": "markdown",
   "id": "6a449a7f",
   "metadata": {},
   "source": [
    "#### Q5:create a list of 5 elements and print the middle element which is in the list"
   ]
  },
  {
   "cell_type": "code",
   "execution_count": 11,
   "id": "c0d3226c",
   "metadata": {},
   "outputs": [
    {
     "name": "stdout",
     "output_type": "stream",
     "text": [
      "Middle Element value is --> True\n"
     ]
    }
   ],
   "source": [
    "listOfData= [\"Fruits\", 4,  True, 40.6, \"Vegetables\"]\n",
    "IndexOfMiddleElement = int(len(listOfData) / 2)\n",
    "middleElement = listOfData.pop(IndexOfMiddleElement)\n",
    "print(f\"Middle Element value is --> {middleElement}\")"
   ]
  },
  {
   "cell_type": "markdown",
   "id": "bb8246f3",
   "metadata": {},
   "source": [
    "#### Q6:A list containing 10 elements slice it from index 3 to 4"
   ]
  },
  {
   "cell_type": "code",
   "execution_count": 2,
   "id": "160bd8bb",
   "metadata": {},
   "outputs": [
    {
     "name": "stdout",
     "output_type": "stream",
     "text": [
      "['Four', 'Five']\n"
     ]
    }
   ],
   "source": [
    "listOfTenElements = [\"one\",\"Two\", \"There\", \"Four\", \"Five\", \"Six\", \"Seven\",\"Eight\",\"Nine\",\"Ten\"]\n",
    "print(listOfTenElements[3:5])"
   ]
  },
  {
   "cell_type": "markdown",
   "id": "e29a6e9d",
   "metadata": {},
   "source": [
    "#### Q7:Declare a list and add a new element into the list using the append function"
   ]
  },
  {
   "cell_type": "code",
   "execution_count": 15,
   "id": "33930e38",
   "metadata": {},
   "outputs": [
    {
     "name": "stdout",
     "output_type": "stream",
     "text": [
      "List of vegetables before append  --> ['Okra', 'Tomato']\n",
      "List of vegetables after append  --> ['Okra', 'Tomato', 'Potato']\n"
     ]
    }
   ],
   "source": [
    "ListOfVeg= [\"Okra\" ,\"Tomato\"]\n",
    "print(f\"List of vegetables before append  --> {ListOfVeg}\")\n",
    "ListOfVeg.append(\"Potato\")\n",
    "print(f\"List of vegetables after append  --> {ListOfVeg}\")"
   ]
  },
  {
   "cell_type": "markdown",
   "id": "cef54feb",
   "metadata": {},
   "source": [
    "#### Q8:Declare a list store multiple elements and access the elements using negative indexing"
   ]
  },
  {
   "cell_type": "code",
   "execution_count": 66,
   "id": "4895e11e",
   "metadata": {},
   "outputs": [
    {
     "name": "stdout",
     "output_type": "stream",
     "text": [
      "Ten\n",
      "Six\n"
     ]
    }
   ],
   "source": [
    "listOfTenElements = [\"one\",\"Two\", \"There\", \"Four\", \"Five\", \"Six\", \"Seven\",\"Eight\",\"Nine\",\"Ten\"]\n",
    "print(f\"{listOfTenElements.pop(-1)}\")\n",
    "print(f\"{listOfTenElements.pop(-4)}\")"
   ]
  },
  {
   "cell_type": "markdown",
   "id": "26c5d2dd",
   "metadata": {},
   "source": [
    "# Tuple"
   ]
  },
  {
   "cell_type": "markdown",
   "id": "2a62e2cd",
   "metadata": {},
   "source": [
    "#### Q1: how tuples are different from the list [theory type question]"
   ]
  },
  {
   "cell_type": "markdown",
   "id": "b90b3cf4",
   "metadata": {},
   "source": [
    "#### Ans: \n",
    "1. tuple are immutable means onces it is created, we will not modify it. whereas list are mutable. \n",
    "2. we use tuple for secure data which we dont want to update like Date of birth.  \n",
    "3. if we want to update data inside tuple, we need to convert it into list. \n",
    "4. there are less method available inside tuple as compare to list."
   ]
  },
  {
   "cell_type": "markdown",
   "id": "083a5296",
   "metadata": {},
   "source": [
    "#### Q2: Write a Python program to create a tuple."
   ]
  },
  {
   "cell_type": "code",
   "execution_count": 22,
   "id": "f1aba3c8",
   "metadata": {},
   "outputs": [
    {
     "name": "stdout",
     "output_type": "stream",
     "text": [
      "Data inside tuple --> ('Apple', 'Banana', 'Cherry', 'Mango', 'Pinneapple', 'Banana')\n"
     ]
    }
   ],
   "source": [
    "Fruits = (\"Apple\" , \"Banana\", \"Cherry\",\"Mango\", \"Pinneapple\",\"Banana\")\n",
    "print(f\"Data inside tuple --> {Fruits}\")"
   ]
  },
  {
   "cell_type": "markdown",
   "id": "fbee4f27",
   "metadata": {},
   "source": [
    "#### Q3:Write a Python program to create a tuple with different data types"
   ]
  },
  {
   "cell_type": "code",
   "execution_count": 23,
   "id": "5918900d",
   "metadata": {},
   "outputs": [
    {
     "name": "stdout",
     "output_type": "stream",
     "text": [
      "Data inside tuple --> ('Fruits', 1, True, 5.8, 'Vegetables')\n"
     ]
    }
   ],
   "source": [
    "tupleElements = (\"Fruits\" ,1 , True, 5.8, \"Vegetables\")\n",
    "print(f\"Data inside tuple --> {tupleElements}\")"
   ]
  },
  {
   "cell_type": "markdown",
   "id": "21265975",
   "metadata": {},
   "source": [
    "#### Q4:Write a Python program to create a tuple with numbers and print one item"
   ]
  },
  {
   "cell_type": "code",
   "execution_count": 26,
   "id": "48ce7f2f",
   "metadata": {},
   "outputs": [
    {
     "name": "stdout",
     "output_type": "stream",
     "text": [
      "Number inside tuple --> (1, 2, 3, 4, 5)\n",
      "Number inside tuple --> 4\n"
     ]
    }
   ],
   "source": [
    "num_Tuple = (1,2,3,4,5) \n",
    "print(f\"Elements inside tuple --> {num_Tuple}\")\n",
    "print(f\"Number inside tuple --> {num_Tuple[3]}\")\n"
   ]
  },
  {
   "cell_type": "markdown",
   "id": "0917c98e",
   "metadata": {},
   "source": [
    "#### Q5:Write a Python program to add an item in a tuple"
   ]
  },
  {
   "cell_type": "code",
   "execution_count": 27,
   "id": "cc1449f5",
   "metadata": {},
   "outputs": [
    {
     "name": "stdout",
     "output_type": "stream",
     "text": [
      "Tuple before adding item --> (1, 2, 3, 4, 5)\n",
      "Tuple after adding item --> (1, 2, 3, 4, 5, 6)\n"
     ]
    }
   ],
   "source": [
    "num_Tuple = (1,2,3,4,5) \n",
    "print(f\"Tuple before adding item --> {num_Tuple}\")\n",
    "num_list = list(num_Tuple)\n",
    "num_list.insert(5,6)\n",
    "num_Tuple = tuple(num_list)\n",
    "print(f\"Tuple after adding item --> {num_Tuple}\")"
   ]
  },
  {
   "cell_type": "markdown",
   "id": "8c6b8096",
   "metadata": {},
   "source": [
    "#### Q6:Write a Python program to get the 4th element and 4th element from the last of a tuple"
   ]
  },
  {
   "cell_type": "code",
   "execution_count": 30,
   "id": "a201f337",
   "metadata": {},
   "outputs": [
    {
     "name": "stdout",
     "output_type": "stream",
     "text": [
      "4th element inside tuple is --> 4\n",
      "4th element from the last of a tuple --> 7\n"
     ]
    }
   ],
   "source": [
    "num_Tuple = (1,2,3,4,5,6,7,8,9,10)\n",
    "print(f\"4th element inside tuple is --> {num_Tuple[3]}\")\n",
    "print(f\"4th element from the last of a tuple --> {num_Tuple[-4]}\")"
   ]
  },
  {
   "cell_type": "markdown",
   "id": "7ec514dc",
   "metadata": {},
   "source": [
    "#### Q7:Write a Python program to check whether an element exists within a tuple."
   ]
  },
  {
   "cell_type": "markdown",
   "id": "0b077fc2",
   "metadata": {},
   "source": [
    "#### we can use index method to find element inside tuple, if value availble, it will print index position another wise it will throw an error. and we need to handle that error inside error handling block. "
   ]
  },
  {
   "cell_type": "code",
   "execution_count": 4,
   "id": "f6e20feb",
   "metadata": {},
   "outputs": [
    {
     "name": "stdout",
     "output_type": "stream",
     "text": [
      "Element does not exist in the tuple.\n"
     ]
    }
   ],
   "source": [
    "num_Tuple = (1,2,3,4,5,6,7,8,9,10)\n",
    "checkElement = 16\n",
    "if checkElement in num_Tuple:\n",
    " print(\"Element exists in the tuple.\")\n",
    "else:\n",
    " print(\"Element does not exist in the tuple.\")"
   ]
  },
  {
   "cell_type": "markdown",
   "id": "8c975caa",
   "metadata": {},
   "source": [
    "#### Q8:Write a Python program to remove an item from a tuple"
   ]
  },
  {
   "cell_type": "code",
   "execution_count": 35,
   "id": "a415ab81",
   "metadata": {},
   "outputs": [
    {
     "name": "stdout",
     "output_type": "stream",
     "text": [
      "Tuple before removing banana --> ('apple', 'Mango', 'banana', 'Watermelon', 'cherry')\n",
      "Tuple after removing banana --> ('apple', 'Mango', 'Watermelon', 'cherry')\n"
     ]
    }
   ],
   "source": [
    "FruitsTuple = (\"apple\", \"Mango\",\"banana\",\"Watermelon\", \"cherry\")\n",
    "print(f\"Tuple before removing banana --> {FruitsTuple}\")\n",
    "FruitsList = list(FruitsTuple)\n",
    "FruitsList.remove(\"banana\")\n",
    "FruitsTuple = tuple(FruitsList)\n",
    "print(f\"Tuple after removing banana --> {FruitsTuple}\")\n"
   ]
  },
  {
   "cell_type": "markdown",
   "id": "81e22fd3",
   "metadata": {},
   "source": [
    "#### Q9:Write a Python program to slice a tuple"
   ]
  },
  {
   "cell_type": "code",
   "execution_count": 75,
   "id": "c5dc5d0c",
   "metadata": {},
   "outputs": [
    {
     "name": "stdout",
     "output_type": "stream",
     "text": [
      "Red fruit is -- > apple\n",
      "Yellow fruit is -- > Mango\n",
      "others fruit is -- > ['banana', 'Watermelon', 'cherry', 'Papaya']\n",
      "Elements between indices 1 and 3 -->  ('Mango', 'banana')\n",
      "Elements between indices 0 and -4 -->  ('apple', 'Mango')\n"
     ]
    }
   ],
   "source": [
    "FruitsTuple = (\"apple\", \"Mango\",\"banana\",\"Watermelon\", \"cherry\",\"Papaya\")\n",
    "(red,yellow,*others) = FruitsTuple\n",
    "print(f\"Red fruit is -- > {red}\")\n",
    "print(f\"Yellow fruit is -- > {yellow}\")\n",
    "print(f\"others fruit is -- > {others}\")\n",
    "\n",
    "print(\"Elements between indices 1 and 3 --> \", FruitsTuple[1:3])   \n",
    "print(\"Elements between indices 0 and -4 --> \", FruitsTuple[:-4])   "
   ]
  },
  {
   "cell_type": "markdown",
   "id": "7f0ffaab",
   "metadata": {},
   "source": [
    "#### Q10:Write a Python program to find the length of a tuple"
   ]
  },
  {
   "cell_type": "code",
   "execution_count": 58,
   "id": "7415faae",
   "metadata": {},
   "outputs": [
    {
     "name": "stdout",
     "output_type": "stream",
     "text": [
      " The length of Fruits tuple is --> 5\n"
     ]
    }
   ],
   "source": [
    "FruitsTuple = (\"apple\", \"Mango\",\"banana\",\"Watermelon\", \"cherry\")\n",
    "print(f\" The length of Fruits tuple is --> {len(FruitsTuple)}\")"
   ]
  },
  {
   "cell_type": "markdown",
   "id": "6a0648c5",
   "metadata": {},
   "source": [
    "#### Q10:Write a Python program to print a tuple with string formatting.  Sample tuple : (100, 200, 300)"
   ]
  },
  {
   "cell_type": "code",
   "execution_count": 6,
   "id": "c2161811",
   "metadata": {},
   "outputs": [
    {
     "name": "stdout",
     "output_type": "stream",
     "text": [
      "Tuple: (100, 200, 300)\n"
     ]
    }
   ],
   "source": [
    "NumberTuple = (100, 200, 300)\n",
    "print(\"Tuple: {}\".format(NumberTuple))"
   ]
  },
  {
   "cell_type": "code",
   "execution_count": null,
   "id": "e0a6d92f",
   "metadata": {},
   "outputs": [],
   "source": []
  },
  {
   "cell_type": "code",
   "execution_count": null,
   "id": "70ee4772",
   "metadata": {},
   "outputs": [],
   "source": []
  },
  {
   "cell_type": "code",
   "execution_count": null,
   "id": "18e9055d",
   "metadata": {},
   "outputs": [],
   "source": []
  },
  {
   "cell_type": "code",
   "execution_count": null,
   "id": "44929a6d",
   "metadata": {},
   "outputs": [],
   "source": []
  }
 ],
 "metadata": {
  "kernelspec": {
   "display_name": "Python 3 (ipykernel)",
   "language": "python",
   "name": "python3"
  },
  "language_info": {
   "codemirror_mode": {
    "name": "ipython",
    "version": 3
   },
   "file_extension": ".py",
   "mimetype": "text/x-python",
   "name": "python",
   "nbconvert_exporter": "python",
   "pygments_lexer": "ipython3",
   "version": "3.11.4"
  }
 },
 "nbformat": 4,
 "nbformat_minor": 5
}
