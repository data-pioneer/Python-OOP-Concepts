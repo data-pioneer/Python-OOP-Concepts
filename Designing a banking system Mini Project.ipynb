{
 "cells": [
  {
   "cell_type": "markdown",
   "id": "a227ed80",
   "metadata": {},
   "source": [
    "### Designing a banking system using object-oriented programming concepts in Python. \n",
    "\n",
    "Create an abstract class called BankAccount that defines the common attributes and behaviors of different types of bank accounts such as SavingsAccount, CheckingAccount, and CreditCardAccount.\n",
    "\n",
    "The BankAccount class should have the following attributes:\n",
    "account_number (integer)\n",
    "account_holder_name (string)\n",
    "account_balance (float)\n",
    "\n",
    "The BankAccount class should have the following methods:\n",
    "deposit(amount: float) -> None - add the specified amount to the account balance withdraw(amount: float) -> bool - remove the specified amount from the account balance if the balance is sufficient and return True, otherwise return False get_account_balance() -> float - return the current balance of the account\n",
    "\n",
    "Create a subclass called SavingsAccount that inherits from the BankAccount class and has the following additional attributes:\n",
    "interest_rate (float)\n",
    "\n",
    "The SavingsAccount class should have the following methods:\n",
    "add_interest() -> None - add interest to the account balance based on the current interest rate\n",
    "\n",
    "Create a subclass called CheckingAccount that inherits from the BankAccount class and has the following additional attributes:\n",
    "\n",
    "overdraft_limit (float)\n",
    "\n",
    "The CheckingAccount class should have the following methods:\n",
    "withdraw(amount: float) -> bool - remove the specified amount from the account balance if the balance plus the overdraft limit is sufficient and return True, otherwise return False\n",
    "Create a subclass called CreditCardAccount that inherits from the BankAccount class and has the following additional attributes:\n",
    "\n",
    "credit_limit (float)\n",
    "The CreditCardAccount class should have the following methods:\n",
    "make_purchase(amount: float) -> bool - remove the specified amount from the credit limit if the limit is not exceeded and return True, otherwise return False\n",
    "make_payment(amount: float) -> None - add the specified amount to the account balance to reduce the credit card debt\n",
    "Create instances of each subclass and test the functionality of the implemented methods. Use abstraction to hide the implementation details of the banking system from the end-users. Use polymorphism to handle different types of bank transactions.\n"
   ]
  },
  {
   "cell_type": "code",
   "execution_count": null,
   "id": "80999f6d",
   "metadata": {},
   "outputs": [],
   "source": []
  },
  {
   "cell_type": "markdown",
   "id": "398b8a51",
   "metadata": {},
   "source": [
    "#### creating abstract class called BankAccount"
   ]
  },
  {
   "cell_type": "code",
   "execution_count": 1,
   "id": "288f7685",
   "metadata": {},
   "outputs": [],
   "source": [
    "from abc import ABC, abstractmethod\n",
    "class BankAccount(ABC): # BankAccount class\n",
    "        \n",
    "    def __init__(self,accnumber,accholder_name,accbalance):\n",
    "        self.account_number = accnumber\n",
    "        self.account_holder_name = accholder_name\n",
    "        self.account_balance = accbalance\n",
    "        print(\"Account successfully created\")\n",
    "        \n",
    "    @abstractmethod\n",
    "    def deposit(self,amount):   \n",
    "        pass\n",
    "    \n",
    "    @abstractmethod\n",
    "    def withdraw(self,amount):\n",
    "        pass\n",
    "\n",
    "    @abstractmethod\n",
    "    def getAccountBalance(self):\n",
    "        pass\n",
    "     "
   ]
  },
  {
   "cell_type": "markdown",
   "id": "09484265",
   "metadata": {},
   "source": [
    "##### Creating a subclass called SavingsAccount that inherits from the BankAccount class"
   ]
  },
  {
   "cell_type": "code",
   "execution_count": 2,
   "id": "1122addf",
   "metadata": {},
   "outputs": [],
   "source": [
    "class SavingsAccount(BankAccount):\n",
    "    def __init__(self,interestRate,duration,accnumber,accholder_name,accbalance):\n",
    "        self.interest_rate = interest_rate\n",
    "        self.time =  duration\n",
    "        super().__init__(accnumber,accholder_name,accbalance)\n",
    "        \n",
    "    def deposit(self,amount):\n",
    "        self.account_balance = self.account_balance + amount  \n",
    "    \n",
    "    def withdraw(self,amount):\n",
    "        if self.account_balance >= amount:\n",
    "           self.account_balance -= amount\n",
    "           return True\n",
    "        else:\n",
    "            return False\n",
    "            \n",
    "    def getAccountBalance(self):\n",
    "        return self.account_balance  \n",
    "    \n",
    "    def addInterest(self):\n",
    "         si = (self.account_balance * self.time * self.interest_rate)/100\n",
    "         return si"
   ]
  },
  {
   "cell_type": "code",
   "execution_count": 3,
   "id": "96827ccb",
   "metadata": {},
   "outputs": [
    {
     "name": "stdout",
     "output_type": "stream",
     "text": [
      "Enter account number: 148767147523\n",
      "Enter account holder name: jaspreet\n",
      "Please Enter amount to deposit: 95000\n",
      "Enter the interest rate: 7.5\n",
      "Enter the duration to calculate simple interest rate: 5 \n",
      "Account successfully created\n"
     ]
    }
   ],
   "source": [
    "try:\n",
    "    account_number = (int(input(\"Enter account number: \")))\n",
    "    account_holder_name = (input(\"Enter account holder name: \"))\n",
    "    account_balance = float(input(\"Please Enter amount to deposit: \"))\n",
    "    interest_rate = float(input(\"Enter the interest rate: \"))\n",
    "    time = int(input(\"Enter the duration to calculate simple interest rate: \"))\n",
    "    objSavingAcc = SavingsAccount(interestRate = interest_rate,duration = time,accnumber = account_number,accholder_name = account_holder_name,accbalance = account_balance)\n",
    "except:\n",
    "    print(\"Please enter input in correct format\")\n"
   ]
  },
  {
   "cell_type": "code",
   "execution_count": 4,
   "id": "0dfc3d72",
   "metadata": {},
   "outputs": [
    {
     "name": "stdout",
     "output_type": "stream",
     "text": [
      "Enter 1 to deposit amount: \n",
      "Enter 2 to withdraw amount\n",
      "Enter 3 to display account balance\n",
      "Enter 4 to add interest\n",
      "Enter 5 to exit\n",
      "Please enter your choice: 3\n",
      "The balance in your account is: 95000.0\n",
      "Please enter your choice: 1\n",
      "Enter amount to deposite: 5000\n",
      "Amount Deposite into account: 5000.0\n",
      "Please enter your choice: 3\n",
      "The balance in your account is: 100000.0\n",
      "Please enter your choice: 2\n",
      "Enter amount to withdrawn: 5000\n",
      "You Withdrew amount is: 5000.0\n",
      "Please enter your choice: 3\n",
      "The balance in your account is: 95000.0\n",
      "Please enter your choice: 4\n",
      "The amount of simple interest paid on your account is 35625.0 for duration of 5 years\n",
      "Please enter your choice: 5\n",
      "Thank you for using banking services: \n"
     ]
    }
   ],
   "source": [
    "print(\"Enter 1 to deposit amount: \")\n",
    "print(\"Enter 2 to withdraw amount\")\n",
    "print(\"Enter 3 to display account balance\")\n",
    "print(\"Enter 4 to add interest\")\n",
    "print(\"Enter 5 to exit\")\n",
    "userInput = 0\n",
    "while userInput != 5:\n",
    "    userInput = int(input(\"Please enter your choice: \"))\n",
    "    if userInput == 1:\n",
    "        try:\n",
    "            amount = float(input(\"Enter amount to deposite: \"))\n",
    "            objSavingAcc.deposit(amount)\n",
    "            print(\"Amount Deposite into account:\", amount)\n",
    "        except e:\n",
    "            print(\"Enter amount into digits only.\" + e)\n",
    "    elif userInput == 2:\n",
    "        amount = float(input(\"Enter amount to withdrawn: \"))\n",
    "        returnValue = objSavingAcc.withdraw(amount)\n",
    "        if returnValue == True:\n",
    "             print(\"You Withdrew amount is:\", amount)       \n",
    "        else:\n",
    "            print(\"The balance is Insufficient\")\n",
    "    elif userInput == 3:\n",
    "        print(f\"The balance in your account is: {objSavingAcc.getAccountBalance()}\")\n",
    "    elif userInput == 4:\n",
    "        print(f\"The amount of simple interest paid on your account is {objSavingAcc.addInterest()} for duration of {objSavingAcc.time} years\")\n",
    "    elif userInput == 5:\n",
    "        print(\"Thank you for using banking services: \")\n",
    "        break\n",
    "    else:\n",
    "        print(\"Please enter correct input: \")"
   ]
  },
  {
   "cell_type": "markdown",
   "id": "fc3aa709",
   "metadata": {},
   "source": [
    "##### Creating a subclass called CheckingAccount that inherits from the BankAccount class"
   ]
  },
  {
   "cell_type": "code",
   "execution_count": 5,
   "id": "2ed66e77",
   "metadata": {},
   "outputs": [],
   "source": [
    "# withdraw(amount: float) -> bool - remove the specified amount from the account balance if \n",
    "# the balance plus the overdraft limit is sufficient and return True, otherwise return False\n",
    "class CheckingAccount(BankAccount):\n",
    "    def __init__(self,overdraftLimit,accnumber,accholder_name,accbalance):\n",
    "        self.overdraft_limit = overdraft_limit\n",
    "        super().__init__(accnumber,accholder_name,accbalance)\n",
    "        \n",
    "    def deposit(self,amount):\n",
    "        self.account_balance = self.account_balance + amount \n",
    "        \n",
    "    def withdraw(self,amount):\n",
    "        accOverLimit = self.account_balance + self.overdraft_limit\n",
    "        if  int(accOverLimit) >= int(amount):\n",
    "            self.account_balance -= amount\n",
    "            return True\n",
    "        else:\n",
    "            return False\n",
    "            \n",
    "    def getAccountBalance(self):\n",
    "        return self.account_balance   "
   ]
  },
  {
   "cell_type": "code",
   "execution_count": 6,
   "id": "1b265e82",
   "metadata": {},
   "outputs": [
    {
     "name": "stdout",
     "output_type": "stream",
     "text": [
      "Enter account number: 1478675645\n",
      "Enter account holder name: bhavleen\n",
      "Please Enter amount to deposit: 95000\n",
      "Enter the overdraft limit: 8700\n",
      "Account successfully created\n"
     ]
    }
   ],
   "source": [
    "try:\n",
    "    account_number = (int(input(\"Enter account number: \")))\n",
    "    account_holder_name = (input(\"Enter account holder name: \"))\n",
    "    account_balance = float(input(\"Please Enter amount to deposit: \"))\n",
    "    overdraft_limit = float(input(\"Enter the overdraft limit: \"))\n",
    "    objcheckingAccount = CheckingAccount(overdraftLimit = overdraft_limit,accnumber = account_number,accholder_name = account_holder_name,accbalance = account_balance) \n",
    "except:\n",
    "     print(\"Please enter input in correct format\")"
   ]
  },
  {
   "cell_type": "code",
   "execution_count": 8,
   "id": "8fe46d49",
   "metadata": {},
   "outputs": [
    {
     "name": "stdout",
     "output_type": "stream",
     "text": [
      "Enter 1 to deposit amount: \n",
      "Enter 2 to withdraw amount\n",
      "Enter 3 to display account balance\n",
      "Enter 4 to exit\n",
      "Please enter your choice: 3\n",
      "The balance in your account is: 95500.0\n",
      "Please enter your choice: 1\n",
      "Enter amount to deposite: 9800\n",
      "Amount Deposite into account: 9800.0\n",
      "Please enter your choice: 3\n",
      "The balance in your account is: 105300.0\n",
      "Please enter your choice: 2\n",
      "Enter amount to withdrawn: 8700\n",
      "Amount successfuly withdraw from account\n",
      "Please enter your choice: 3\n",
      "The balance in your account is: 96600.0\n",
      "Please enter your choice: 4\n",
      "Thank you for using banking services: \n"
     ]
    }
   ],
   "source": [
    "print(\"Enter 1 to deposit amount: \")\n",
    "print(\"Enter 2 to withdraw amount\")\n",
    "print(\"Enter 3 to display account balance\")\n",
    "print(\"Enter 4 to exit\")\n",
    "userInput = 0\n",
    "while userInput != 4:\n",
    "    userInput = int(input(\"Please enter your choice: \"))\n",
    "    if userInput == 1:\n",
    "        try:\n",
    "            amount = float(input(\"Enter amount to deposite: \"))\n",
    "            objcheckingAccount.deposit(amount)\n",
    "            print(\"Amount Deposite into account:\", amount)\n",
    "        except e:\n",
    "            print(\"Enter amount into digits only.\" + e)\n",
    "    elif userInput == 2:\n",
    "        amount = float(input(\"Enter amount to withdrawn: \"))\n",
    "        returnValue = objcheckingAccount.withdraw(amount)\n",
    "        if returnValue == True:\n",
    "            print(\"Amount successfuly withdraw from account\")\n",
    "        else:\n",
    "             print(\"The balance is Insufficient\")\n",
    "    elif userInput == 3:\n",
    "        print(f\"The balance in your account is: {objcheckingAccount.getAccountBalance()}\")\n",
    "    elif userInput == 4:\n",
    "        print(\"Thank you for using banking services: \")\n",
    "        break\n",
    "    else:\n",
    "        print(\"Please enter correct input: \")"
   ]
  },
  {
   "cell_type": "markdown",
   "id": "bfc081ab",
   "metadata": {},
   "source": [
    "##### Create a subclass called CreditCardAccount that inherits from the BankAccount class "
   ]
  },
  {
   "cell_type": "code",
   "execution_count": 9,
   "id": "305539ae",
   "metadata": {},
   "outputs": [],
   "source": [
    "class CreditCardAccount(BankAccount):\n",
    "    def __init__(self,creditLimit,accnumber,accholder_name,accbalance):\n",
    "        self.credit_limit = credit_limit\n",
    "        super().__init__(accnumber,accholder_name,accbalance)\n",
    "        \n",
    "    def deposit(self,amount):\n",
    "        self.account_balance = self.account_balance + amount \n",
    "        \n",
    "    def withdraw(self,amount):\n",
    "        if self.account_balance >= amount:\n",
    "           self.account_balance -= amount\n",
    "           return True\n",
    "        else:\n",
    "            return False\n",
    "        \n",
    "    \n",
    "    def getAccountBalance(self):\n",
    "        return self.account_balance \n",
    "    \n",
    "    def make_purchase(self,amount):\n",
    "        if self.credit_limit >= amount:\n",
    "            self.credit_limit -= amount\n",
    "            return True\n",
    "        else:\n",
    "            return False\n",
    "            \n",
    "    def make_payment(self,amount):\n",
    "        self.account_balance += amount"
   ]
  },
  {
   "cell_type": "code",
   "execution_count": 10,
   "id": "a6e76703",
   "metadata": {},
   "outputs": [
    {
     "name": "stdout",
     "output_type": "stream",
     "text": [
      "Enter account number: 1476565423\n",
      "Enter account holder name: vinod\n",
      "Please Enter amount to deposit: 95000\n",
      "Enter the credit limit: 5600\n",
      "Account successfully created\n"
     ]
    }
   ],
   "source": [
    "try:\n",
    "    account_number = (int(input(\"Enter account number: \")))\n",
    "    account_holder_name = (input(\"Enter account holder name: \"))\n",
    "    account_balance = float(input(\"Please Enter amount to deposit: \"))\n",
    "    credit_limit = float(input(\"Enter the credit limit: \"))\n",
    "    objCreditCardAccount = CreditCardAccount(creditLimit = credit_limit,accnumber = account_number,accholder_name = account_holder_name,accbalance = account_balance) \n",
    "except:\n",
    "     print(\"Please enter input in correct format\")\n",
    "\n"
   ]
  },
  {
   "cell_type": "code",
   "execution_count": 11,
   "id": "bf4a43ee",
   "metadata": {},
   "outputs": [
    {
     "name": "stdout",
     "output_type": "stream",
     "text": [
      "Enter 1 to deposit amount: \n",
      "Enter 2 to withdraw amount\n",
      "Enter 3 to display account balance\n",
      "Enter 4 to make purchase\n",
      "Enter 5 to make payment\n",
      "Enter 6 to exit\n",
      "Please enter your choice: 3\n",
      "The balance in your account is: 95000.0\n",
      "Please enter your choice: 1\n",
      "Enter amount to deposite: 6700\n",
      "Amount Deposite into account: 6700.0\n",
      "Please enter your choice: 3\n",
      "The balance in your account is: 101700.0\n",
      "Please enter your choice: 2\n",
      "Enter amount to withdrawn: 6700\n",
      "returnValue : True\n",
      "Amount successfuly withdraw from account\n",
      "Please enter your choice: 4\n",
      "Enter amount to make putchase: 900\n",
      "You have successfuly make purchase from account\n",
      "Please enter your choice: 5\n",
      "Enter amount to make payment: 9000\n",
      "Please enter your choice: 3\n",
      "The balance in your account is: 104000.0\n",
      "Please enter your choice: 6\n",
      "Thank you for using banking services: \n"
     ]
    }
   ],
   "source": [
    "print(\"Enter 1 to deposit amount: \")\n",
    "print(\"Enter 2 to withdraw amount\")\n",
    "print(\"Enter 3 to display account balance\")\n",
    "print(\"Enter 4 to make purchase\")\n",
    "print(\"Enter 5 to make payment\")\n",
    "print(\"Enter 6 to exit\")\n",
    "userInput = 0\n",
    "while userInput != 6:\n",
    "    userInput = int(input(\"Please enter your choice: \"))\n",
    "    if userInput == 1:\n",
    "        try:\n",
    "            amount = float(input(\"Enter amount to deposite: \"))\n",
    "            objCreditCardAccount.deposit(amount)\n",
    "            print(\"Amount Deposite into account:\", amount)\n",
    "        except e:\n",
    "            print(\"Enter amount into digits only.\" + e)\n",
    "    elif userInput == 2:\n",
    "        amount = float(input(\"Enter amount to withdrawn: \"))\n",
    "        returnValue = objCreditCardAccount.withdraw(amount)\n",
    "        print(f\"returnValue : {returnValue}\")\n",
    "        if returnValue == True:\n",
    "            print(\"Amount successfuly withdraw from account\")\n",
    "        else:\n",
    "             print(\"The balance is Insufficient\")\n",
    "    elif userInput == 3:\n",
    "        print(f\"The balance in your account is: {objCreditCardAccount.getAccountBalance()}\")\n",
    "    elif userInput == 4:\n",
    "        amount = float(input(\"Enter amount to make putchase: \"))\n",
    "        returnValue = objCreditCardAccount.make_purchase(amount)\n",
    "        if returnValue == True:\n",
    "            print(\"You have successfuly make purchase from account\")\n",
    "        else:\n",
    "             print(\"The balance is Insufficient\")\n",
    "    elif userInput == 5:\n",
    "        amount = float(input(\"Enter amount to make payment: \"))\n",
    "        objCreditCardAccount.make_payment(amount)\n",
    "    elif userInput == 6:\n",
    "        print(\"Thank you for using banking services: \")\n",
    "        break\n",
    "    else:\n",
    "        print(\"Please enter correct input: \")"
   ]
  },
  {
   "cell_type": "code",
   "execution_count": null,
   "id": "e8925a7d",
   "metadata": {},
   "outputs": [],
   "source": []
  },
  {
   "cell_type": "code",
   "execution_count": null,
   "id": "39a6f44f",
   "metadata": {},
   "outputs": [],
   "source": []
  }
 ],
 "metadata": {
  "kernelspec": {
   "display_name": "Python 3 (ipykernel)",
   "language": "python",
   "name": "python3"
  },
  "language_info": {
   "codemirror_mode": {
    "name": "ipython",
    "version": 3
   },
   "file_extension": ".py",
   "mimetype": "text/x-python",
   "name": "python",
   "nbconvert_exporter": "python",
   "pygments_lexer": "ipython3",
   "version": "3.11.4"
  }
 },
 "nbformat": 4,
 "nbformat_minor": 5
}
