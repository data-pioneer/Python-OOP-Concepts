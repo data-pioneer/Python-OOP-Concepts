{
 "cells": [
  {
   "cell_type": "markdown",
   "id": "b261af75",
   "metadata": {},
   "source": [
    "\n",
    "##### Classes: Building Blocks of Objects\n",
    "Imagine a blueprint for a house. It defines the layout, rooms, and features, acting as a template for constructing individual houses. In the world of programming, classes play a similar role. They serve as blueprints for creating objects, defining the attributes (properties) and methods (functions) that all objects of that class share. Think of each object as a house built from the class blueprint, sharing the same basic features but with potential variations in details and contents.\n",
    "\n",
    "#####  Methods: Tools for Object Manipulation\n",
    "Just as tools are used to build and customize a house based on the blueprint, methods are functions defined within a class to manipulate its data. Each object has access to all its methods, allowing you to modify its attributes and perform specific tasks. Imagine the methods as tools for shaping and decorating the cookie dough (data), enabling you to create different cookie shapes (perform specific actions) based on the shared recipe (class).\n"
   ]
  },
  {
   "cell_type": "code",
   "execution_count": null,
   "id": "9bde69f2",
   "metadata": {},
   "outputs": [],
   "source": []
  },
  {
   "cell_type": "markdown",
   "id": "3615aef4",
   "metadata": {},
   "source": [
    "##### 1. Write a Python function that takes a list of temperatures in Fahrenheit as input and outputs a new list with the temperatures converted to Celsius."
   ]
  },
  {
   "cell_type": "code",
   "execution_count": 36,
   "id": "51d4ec45",
   "metadata": {},
   "outputs": [
    {
     "name": "stdout",
     "output_type": "stream",
     "text": [
      "List of Temperature in fahrenheit:  [44, 104.5, 56.2]\n",
      "List of Temperature in celsius:  [6.67, 40.28, 13.44]\n"
     ]
    }
   ],
   "source": [
    "def ConvertFahToCel(ListFahTemp):\n",
    "    ListCelTemp = []\n",
    "    for temperature in ListFahTemp:\n",
    "        celsius = (float(temperature) - 32) * 5 / 9\n",
    "        ListCelTemp.append(round(celsius,2))\n",
    "    return ListCelTemp\n",
    "      \n",
    "\n",
    "\n",
    "ListFahrenheitTemp = [44 , 104.5, 56.2]\n",
    "ListCelTemp = ConvertFahToCel(ListFahrenheitTemp)\n",
    "print(\"List of Temperature in fahrenheit: \" , ListFahrenheitTemp)\n",
    "print(\"List of Temperature in celsius: \" , ListCelTemp)\n"
   ]
  },
  {
   "cell_type": "markdown",
   "id": "3463353b",
   "metadata": {},
   "source": [
    "\n",
    "##### 2. Write a Python function that takes a list of book titles and their respective authors as input and outputs a new dictionary with the authors as keys and the book titles as values."
   ]
  },
  {
   "cell_type": "code",
   "execution_count": 15,
   "id": "8b31f7ef",
   "metadata": {},
   "outputs": [
    {
     "name": "stdout",
     "output_type": "stream",
     "text": [
      "List of books ['Author 1', ['Book1', 'Book2'], 'Author 2', ['Book3'], 'Author 3', ['Book4', 'Book5']]\n",
      "-------------------------------------\n",
      "-------------------------------------\n",
      "Dictionary of books {'Author 1': ['Book1', 'Book2'], 'Author 2': ['Book3'], 'Author 3': ['Book4', 'Book5']}\n"
     ]
    }
   ],
   "source": [
    "def convertLstToDic(lstData):\n",
    "    dicBooks = {}\n",
    "    for i in range(0, len(lstData), 2):\n",
    "        dicBooks[lstData[i]] = lstData[i + 1]\n",
    "    return dicBooks\n",
    " \n",
    "lstBooks = [\"Author 1\", [\"Book1\",\"Book2\"], \n",
    "       \"Author 2\", [\"Book3\"],\n",
    "       \"Author 3\", [\"Book4\", \"Book5\"]]\n",
    "print(f\"List of books {lstBooks}\")\n",
    "print('-------------------------------------')\n",
    "print('-------------------------------------')\n",
    "print(f\"Dictionary of books {convertLstToDic(lstBooks)}\")\n"
   ]
  },
  {
   "cell_type": "markdown",
   "id": "8bfdb606",
   "metadata": {},
   "source": [
    "##### 3. Write a Python function that takes a list of grocery items and their respective prices as input and outputs the total cost of the grocery bill."
   ]
  },
  {
   "cell_type": "code",
   "execution_count": 6,
   "id": "cea9f4aa",
   "metadata": {},
   "outputs": [
    {
     "name": "stdout",
     "output_type": "stream",
     "text": [
      "List of items\n",
      "['Apple', 120, 'Papaya', 90, 'Mong Dal', 120, 'Sugar', 45]\n",
      "The total cost of the grocery =  375\n"
     ]
    }
   ],
   "source": [
    "def getGroceryBill(lstOfItem):\n",
    "    totalCost = 0\n",
    "    for i in range(0, len(lstOfItem), 2):\n",
    "        totalCost = totalCost + lstOfItem[i + 1]\n",
    "    return totalCost\n",
    "\n",
    "\n",
    "listOfItem = [\"Apple\", 120, \"Papaya\", 90, \"Mong Dal\", 120, \"Sugar\" , 45]\n",
    "print(f\"List of items\\n{listOfItem}\")\n",
    "print(f\"The total cost of the grocery =  {getGroceryBill(listOfItem)}\")"
   ]
  },
  {
   "cell_type": "markdown",
   "id": "387cee22",
   "metadata": {},
   "source": [
    "##### 4. Write a Python function that takes a list of movie titles and their respective ratings as input and outputs a new list with the movies sorted in descending order based on their ratings."
   ]
  },
  {
   "cell_type": "code",
   "execution_count": 7,
   "id": "563cb1ca",
   "metadata": {},
   "outputs": [
    {
     "name": "stdout",
     "output_type": "stream",
     "text": [
      "Data inside list of movies without sorting \n",
      " [('Django Unchained', 8.4), ('Se7en', 8.6), ('The Lord of the Rings', 8.8), ('Interstellar', 8.6), ('The Dark Knight Rises', 8.4), ('The Godfather', 9.2), ('The Matrix', 8.7), ('Pulp Fiction', 8.9), ('The Dark Knight', 9.0)]\n",
      "-------------------------------------\n",
      "-------------------------------------\n",
      "Data inside list of movies sorted in descending order based on their ratings \n",
      " [('The Godfather', 9.2), ('The Dark Knight', 9.0), ('Pulp Fiction', 8.9), ('The Lord of the Rings', 8.8), ('The Matrix', 8.7), ('Se7en', 8.6), ('Interstellar', 8.6), ('Django Unchained', 8.4), ('The Dark Knight Rises', 8.4)]\n"
     ]
    }
   ],
   "source": [
    "def sortMovies(val):\n",
    "    return val[1]\n",
    "\n",
    "listOfMovies = [(\"Django Unchained\", 8.4), (\"Se7en\", 8.6), \n",
    "                (\"The Lord of the Rings\", 8.8), (\"Interstellar\",8.6),\n",
    "                (\"The Dark Knight Rises\" , 8.4), (\"The Godfather\",9.2),\n",
    "               (\"The Matrix\", 8.7), (\"Pulp Fiction\", 8.9),\n",
    "               (\"The Dark Knight\",9.0)]\n",
    "\n",
    "print(f\"Data inside list of movies without sorting \\n {listOfMovies}\")\n",
    "listOfMovies.sort(key=sortMovies, reverse=True)\n",
    "print('-------------------------------------')\n",
    "print('-------------------------------------')\n",
    "print(f\"Data inside list of movies sorted in descending order based on their ratings \\n {listOfMovies}\")  \n"
   ]
  },
  {
   "cell_type": "markdown",
   "id": "97f7d7a1",
   "metadata": {},
   "source": [
    "##### 5. Write a Python function that takes a list of student names and their respective grades as input and outputs a new dictionary with the student names as keys and their average grade as values."
   ]
  },
  {
   "cell_type": "code",
   "execution_count": 19,
   "id": "0fd5a9ac",
   "metadata": {},
   "outputs": [
    {
     "name": "stdout",
     "output_type": "stream",
     "text": [
      "List of Students with marks: ['Anushka', [25, 36, 47, 45], 'Bhavleen', [85, 64, 69, 47], 'Sumit', [65, 65, 87, 14], 'Ridima', [85, 94, 69, 47], 'Vinod', [74, 42, 36, 75]]\n",
      "-------------------------------------\n",
      "-------------------------------------\n",
      "Dictionary of Students with average of marks: {'Anushka': 38.25, 'Bhavleen': 66.25, 'Sumit': 57.75, 'Ridima': 73.75, 'Vinod': 56.75}\n"
     ]
    }
   ],
   "source": [
    "def getStudentDic(lstData):\n",
    "    dicStudent = {}\n",
    "    for i in range(0, len(lstData), 2):\n",
    "        dicStudent[lstData[i]] = sum(lstData[i+1])/len(lstData[i+1])\n",
    "    return dicStudent\n",
    "\n",
    "listOfStudents = [\n",
    "                  \"Anushka\",[25,36,47,45],\n",
    "                  \"Bhavleen\",[85,64,69,47],\n",
    "                  \"Sumit\",[65,65,87,14], \n",
    "                  \"Ridima\",[85,94,69,47],\n",
    "                  \"Vinod\",[74,42,36,75]\n",
    "                 ]\n",
    "\n",
    "\n",
    "print(f\"List of Students with marks: {listOfStudents}\")\n",
    "print('-------------------------------------')\n",
    "print('-------------------------------------')\n",
    "print(f\"Dictionary of Students with average of marks: {getStudentDic(listOfStudents)}\")"
   ]
  },
  {
   "cell_type": "markdown",
   "id": "1ed7095f",
   "metadata": {},
   "source": [
    "##### 6. Inventory Management: Create a class called \"Inventory\" that has attributes such as item name, quantity, price, etc. You can then create objects of this class for each item in your inventory and use its methods to update the inventory as items are sold or restocked."
   ]
  },
  {
   "cell_type": "code",
   "execution_count": 34,
   "id": "f530112b",
   "metadata": {},
   "outputs": [
    {
     "name": "stdout",
     "output_type": "stream",
     "text": [
      "===================================================\n",
      "create apple inventory object and sold item as sold quantity is lesser than stock quantity\n",
      "Name of item is Apple with quantity 2,price 5000\n",
      "===================================================\n",
      "create papaya inventory object and restore item as sold quantity is higher than stock quantity\n",
      "Insufficient quantity of Papaya in inventory.Please restore inventory..\n"
     ]
    }
   ],
   "source": [
    "class Inventory:\n",
    "    quantity = 0\n",
    "    price = 0\n",
    "    def __init__(self, name, quantity, price):\n",
    "        self.name = name\n",
    "        self.quantity = quantity\n",
    "        self.price = price\n",
    "   \n",
    "    def checkInventory(self,quantity_sold):\n",
    "        self.quantity_sold = quantity_sold\n",
    "        if self.quantity_sold <= self.quantity:\n",
    "            return True\n",
    "        else:\n",
    "            return False\n",
    "            \n",
    "            \n",
    "    def itemSold(self):\n",
    "        self.soldPrice = self.quantity * self.price\n",
    "        print(f\"Name of item is {self.name} with quantity {self.quantity_sold},price {self.soldPrice }\")\n",
    "   \n",
    "        \n",
    "    def itemRestocked(self,stock,quantity):\n",
    "        self.stock = stock\n",
    "        self.quantity = quantity\n",
    "    \n",
    "print(\"===================================================\")\n",
    "print(\"create apple inventory object and sold item as sold quantity is lesser than stock quantity\")\n",
    "IN1 = Inventory(name = \"Apple\", quantity = 200, price = 25)\n",
    "if IN1.checkInventory(2):\n",
    "    IN1.itemSold()\n",
    "else:\n",
    "     print(\"Insufficient quantity in inventory.\")\n",
    "     IN1.itemRestocked(stock = \"restocked\", quantity = 400)\n",
    "\n",
    "print(\"===================================================\")\n",
    "print(\"create papaya inventory object and restore item as sold quantity is higher than stock quantity\")\n",
    "IN2 = Inventory(name = \"Papaya\", quantity = 50, price = 25)\n",
    "if IN2.checkInventory(200):\n",
    "    IN2.itemSold()\n",
    "else:\n",
    "     print(f\"Insufficient quantity of {IN2.name} in inventory.Please restore inventory..\")\n",
    "     IN2.itemRestocked(stock = \"restocked\", quantity = 400)\n",
    "    "
   ]
  },
  {
   "cell_type": "markdown",
   "id": "51b5e687",
   "metadata": {},
   "source": [
    "##### 7. Employee Management: Create a class called \"Employee\" that has attributes such as name, age, salary, etc. You can then create objects of this class for each employee in your organization and use its methods to manage employee data, such as updating salaries or tracking employee attendance."
   ]
  },
  {
   "cell_type": "code",
   "execution_count": 35,
   "id": "93640759",
   "metadata": {},
   "outputs": [
    {
     "name": "stdout",
     "output_type": "stream",
     "text": [
      "Name of employee is Jaspreet and age 32 working with salary of 42000\n",
      "has no attendance history\n",
      "-------------------------------------\n",
      "Before calling update salary and attendance method\n",
      "Name of employee is Jaspreet and age 32 working with salary of 56000\n",
      "has attendance history {'1 Jan, 2023': 'Present', '2 Jan, 2023': 'Half Day working'}\n",
      "-------------------------------------\n",
      "Display second employee details\n",
      "Name of employee is Vinod and age 34 working with salary of 80000\n",
      "has no attendance history\n"
     ]
    }
   ],
   "source": [
    "class Employee:\n",
    "    \n",
    "    def __init__(self, name, age, salary):\n",
    "        self.name = name\n",
    "        self.age = age\n",
    "        self.salary = salary\n",
    "        self.attendanceDic = {}\n",
    "        \n",
    "    def updateSalary(self,salary):\n",
    "        self.salary = salary\n",
    "        \n",
    "    def displayEmpDetails(self):\n",
    "        print(f\"Name of employee is {self.name} and age {self.age} working with salary of {self.salary}\")\n",
    "        if len(self.attendanceDic) == 0:\n",
    "            print(\"has no attendance history\")\n",
    "        else:\n",
    "            print(f\"has attendance history {self.attendanceDic}\")\n",
    "    \n",
    "    def trackingEmpAttendance(self,key,value):\n",
    "        self.attendanceDic[key] = value\n",
    "        \n",
    "objEmp1 = Employee(name = \"Jaspreet\", age = 32, salary = 42000)\n",
    "objEmp2 = Employee(name = \"Vinod\", age = 34, salary = 80000)\n",
    "objEmp1.displayEmpDetails()\n",
    "print('-------------------------------------')\n",
    "print(\"Before calling update salary and attendance method\")\n",
    "objEmp1.updateSalary(salary = 56000)\n",
    "objEmp1.trackingEmpAttendance(key = \"1 Jan, 2023\",  value = \"Present\")\n",
    "objEmp1.trackingEmpAttendance(key = \"2 Jan, 2023\",  value = \"Half Day working\")\n",
    "objEmp1.displayEmpDetails()\n",
    "print('-------------------------------------')\n",
    "print(\"Display second employee details\")\n",
    "objEmp2.displayEmpDetails()         \n",
    "        \n",
    "        "
   ]
  },
  {
   "cell_type": "markdown",
   "id": "07bd8a65",
   "metadata": {},
   "source": [
    "##### 8. Banking: Create a class called \"Account\" that has attributes such as account number, balance, and interest rate. You can then create objects of this class for each customer's account and use its methods to handle transactions, such as deposits, withdrawals, and interest calculations."
   ]
  },
  {
   "cell_type": "code",
   "execution_count": 16,
   "id": "1901d35a",
   "metadata": {},
   "outputs": [
    {
     "name": "stdout",
     "output_type": "stream",
     "text": [
      "-------------------------------------\n",
      "Account number 8767147523 has balance of 650000 with interest rate 10\n",
      "-------------------------------------\n",
      "Account details after calling update method\n",
      "Account number 8767147523 has balance of 651200 with interest rate 10\n",
      "-------------------------------------\n",
      "Simple interest rate on this account for the tenure of 1 years is 325600.0\n"
     ]
    }
   ],
   "source": [
    "class BankAccountDetails:\n",
    "    def __init__(self, number, balance, interestRate):\n",
    "        self.number = number\n",
    "        self.balance = balance\n",
    "        self.interestRate = interestRate\n",
    "        \n",
    "    def printAccountDetails(self):\n",
    "        print(f\"Account number {self.number} has balance of {self.balance} with interest rate {self.interestRate}\")   \n",
    "        \n",
    "    def updatetransaction(self,transType,amount):\n",
    "        if(transType == \"deposits\"):\n",
    "            self.balance = self.balance + amount\n",
    "        elif(transType == \"withdrawals\"):\n",
    "            self.balance = self.balance - amount\n",
    "    \n",
    "    def calculateSimpleInterest(self, time = 1): # default argument\n",
    "         si = (self.balance * time * self.interestRate)/100\n",
    "         return si\n",
    "        \n",
    "objBankAccount = BankAccountDetails( number = 8767147523, balance = 650000, interestRate = 10)\n",
    "print('-------------------------------------')\n",
    "objBankAccount.printAccountDetails()\n",
    "print('-------------------------------------')\n",
    "print(\"Account details after calling update method\")\n",
    "objBankAccount.updatetransaction(\"deposits\",1200)\n",
    "objBankAccount.printAccountDetails()\n",
    "print('-------------------------------------')\n",
    "print(f\"Simple interest rate on this account for the tenure of 1 years is {objBankAccount.calculateSimpleInterest()}\")\n"
   ]
  },
  {
   "cell_type": "markdown",
   "id": "1aa7485f",
   "metadata": {},
   "source": [
    "##### 9. Medical Records Management: Create a class called \"Patient\" that has attributes such as name, age, medical history, etc. You can then create objects of this class for each patient and use its methods to manage patient data, such as scheduling appointments or updating medical records."
   ]
  },
  {
   "cell_type": "code",
   "execution_count": 17,
   "id": "09ade0b7",
   "metadata": {},
   "outputs": [
    {
     "name": "stdout",
     "output_type": "stream",
     "text": [
      "-------------------------------------\n",
      "Patient name is Jaspreet of 32 years old has No Medical History\n",
      "-------------------------------------\n",
      "Patient name is Jaspreet of 32 years old has Joint Pain\n",
      "Patient name Jaspreet has appointment on 10 June\n"
     ]
    }
   ],
   "source": [
    "class patientClass:\n",
    "    def __init__(self, name, age, medicalHistory):\n",
    "        self.name = name\n",
    "        self.age = age\n",
    "        self.medicalHistory = medicalHistory\n",
    "        \n",
    "    def printPatientDetails(self):\n",
    "        print(f\"Patient name is {self.name} of {self.age} years old has {self.medicalHistory}\")   \n",
    "        \n",
    "    def updateMedicalHistory(self,medHistory):\n",
    "        self.medicalHistory = medHistory\n",
    "    \n",
    "    def scheduleAppointment(self,appDate):\n",
    "        self.AppointmentDate = appDate\n",
    "    \n",
    "    def getAppointmentDate(self):\n",
    "        print(f\"Patient name {self.name} has appointment on {self.AppointmentDate}\") \n",
    "\n",
    "print('-------------------------------------')\n",
    "objPatient1 = patientClass(name = \"Jaspreet\", age = \"32\", medicalHistory = \"No Medical History\")\n",
    "objPatient1.printPatientDetails()       \n",
    "print('-------------------------------------')\n",
    "objPatient1.updateMedicalHistory(medHistory = \"Joint Pain\")\n",
    "objPatient1.printPatientDetails() \n",
    "objPatient1.scheduleAppointment(appDate = \"10 June\")\n",
    "objPatient1.getAppointmentDate()\n",
    "\n",
    "\n"
   ]
  },
  {
   "cell_type": "markdown",
   "id": "90da4dbe",
   "metadata": {},
   "source": [
    "##### 10. Online Ordering: Create a class called \"Order\" that has attributes such as customer name, order details, total amount, etc. You can then create objects of this class for each order placed on your online store and use its methods to process the order, such as calculating the total amount, generating a receipt, and updating inventory levels."
   ]
  },
  {
   "cell_type": "code",
   "execution_count": 1,
   "id": "4e5f99f7",
   "metadata": {},
   "outputs": [
    {
     "name": "stdout",
     "output_type": "stream",
     "text": [
      "Customer name = Jaspreet \n",
      "items ordered = {'Fruits': 400, 'Vegetables': 700, 'Kichen Products': 2500} \n",
      "Total cost = 3600\n",
      "-------------------------------------\n",
      "Current inventory level is -- Minimum\n"
     ]
    }
   ],
   "source": [
    "class OnlineOrderingClass:\n",
    "     def __init__(self, name, orderDetails):\n",
    "        self.name = name\n",
    "        self.orderDetails = orderDetails\n",
    "    \n",
    "     def calculateTotalAmount(self):\n",
    "        self.totalAmount =  sum(self.orderDetails.values())\n",
    "            \n",
    "     def generateReceipt(self):\n",
    "        print(f\"Customer name = {self.name} \\nitems ordered = {self.orderDetails} \\nTotal cost = {self.totalAmount}\")\n",
    "        \n",
    "     def updateInventoryLevel(self,InvLevel):\n",
    "        self.updateInLev = InvLevel\n",
    "        \n",
    "objOrderDetails = OnlineOrderingClass(\"Jaspreet\", {\"Fruits\" : 400, \"Vegetables\" : 700 , \"Kichen Products\" : 2500})\n",
    "objOrderDetails.calculateTotalAmount()\n",
    "objOrderDetails.generateReceipt()\n",
    "print('-------------------------------------')\n",
    "objOrderDetails.updateInventoryLevel(\"Minimum\")\n",
    "print(f\"Current inventory level is -- {objOrderDetails.updateInLev}\")\n"
   ]
  },
  {
   "cell_type": "code",
   "execution_count": null,
   "id": "eaaeaa65",
   "metadata": {},
   "outputs": [],
   "source": []
  },
  {
   "cell_type": "markdown",
   "id": "9aabde64",
   "metadata": {},
   "source": []
  },
  {
   "cell_type": "code",
   "execution_count": null,
   "id": "9f1ffc9f",
   "metadata": {},
   "outputs": [],
   "source": []
  }
 ],
 "metadata": {
  "kernelspec": {
   "display_name": "Python 3 (ipykernel)",
   "language": "python",
   "name": "python3"
  },
  "language_info": {
   "codemirror_mode": {
    "name": "ipython",
    "version": 3
   },
   "file_extension": ".py",
   "mimetype": "text/x-python",
   "name": "python",
   "nbconvert_exporter": "python",
   "pygments_lexer": "ipython3",
   "version": "3.11.4"
  }
 },
 "nbformat": 4,
 "nbformat_minor": 5
}
