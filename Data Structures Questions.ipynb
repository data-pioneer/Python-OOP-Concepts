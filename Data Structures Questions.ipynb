{
 "cells": [
  {
   "cell_type": "markdown",
   "id": "423dc6e6",
   "metadata": {},
   "source": [
    "Python data structures are essentially containers for organizing and grouping data of different types. They help manage data efficiently and perform various operations on it. The four main types of data structures in Python are:\n",
    "\n",
    "###### Lists: Ordered collections of mutable data, allowing element addition, removal, and modification.\n",
    "######  Tuples: Ordered collections of immutable data, with fixed contents after creation.\n",
    "######  Sets: Unordered collections of unique elements, eliminating duplicates.\n",
    "######  Dictionaries: Unordered collections of key-value pairs, enabling efficient data lookup and retrieval."
   ]
  },
  {
   "cell_type": "code",
   "execution_count": null,
   "id": "697c800d",
   "metadata": {},
   "outputs": [],
   "source": []
  },
  {
   "cell_type": "markdown",
   "id": "dc7776b0",
   "metadata": {},
   "source": [
    "###### 1. Write a Python program that takes two lists as input and returns a new list containing the common elements between the two input lists."
   ]
  },
  {
   "cell_type": "code",
   "execution_count": 1,
   "id": "cf96e54f",
   "metadata": {},
   "outputs": [
    {
     "name": "stdout",
     "output_type": "stream",
     "text": [
      "Common elements in both list are --> ['Apple', 'Cherry', 'Pinneapple']\n"
     ]
    }
   ],
   "source": [
    "FruitsList1 = [\"Apple\" , \"Banana\", \"Cherry\",\"Mango\", \"Pinneapple\"]\n",
    "FruitsList2 = [\"Apple\" , \"Kiwi\", \"Cherry\",\"Papaya\", \"Pinneapple\"]\n",
    "CommonElements = []\n",
    "for element in FruitsList1:\n",
    "    if element in FruitsList2:\n",
    "        CommonElements.append(element)\n",
    "print(f\"Common elements in both list are --> {CommonElements}\")"
   ]
  },
  {
   "cell_type": "markdown",
   "id": "1148fe0e",
   "metadata": {},
   "source": [
    "###### 2. Write a Python program that takes two strings as input and returns 'yes' if the first string is a substring of the second string and 'no' otherwise using comparison operators."
   ]
  },
  {
   "cell_type": "code",
   "execution_count": 7,
   "id": "27759d6b",
   "metadata": {},
   "outputs": [
    {
     "name": "stdout",
     "output_type": "stream",
     "text": [
      "Enter first string: Apple\n",
      "Enter second string: The name of best fruit is apple\n",
      "['The', 'name', 'of', 'best', 'fruit', 'is', 'apple']\n",
      "Yes, first value is present in second string\n"
     ]
    }
   ],
   "source": [
    "str1 = input(\"Enter first string: \")\n",
    "str2 = input(\"Enter second string: \")\n",
    "\n",
    "\n",
    "str2List = str2.split()\n",
    "print(str2List)\n",
    "NotFound = 0\n",
    "for i in range(0,len(str2List)):\n",
    "    if str2List[i].lower() == str1.lower():\n",
    "        print(\"Yes, first value is present in second string\")\n",
    "        NotFound = 0\n",
    "        break\n",
    "    else:\n",
    "        NotFound = NotFound + 1\n",
    "        \n",
    "if NotFound > 0:\n",
    "    print(\"No, it is not present\")\n",
    "        "
   ]
  },
  {
   "cell_type": "markdown",
   "id": "e2241013",
   "metadata": {},
   "source": [
    "###### 3. Write a Python program that takes two lists as input and returns a new list containing only the unique elements from both input lists using comparison operators."
   ]
  },
  {
   "cell_type": "code",
   "execution_count": 8,
   "id": "6dd4f139",
   "metadata": {},
   "outputs": [
    {
     "name": "stdout",
     "output_type": "stream",
     "text": [
      "Elements inside list 1 --> [1, 2, 3, 4, 5, 6, 7]\n",
      "Elements inside list 2 --> [5, 6, 7, 18, 15, 16, 72]\n",
      "unique elements from both input lists are --> [1, 2, 3, 4, 15, 16, 18, 72]\n"
     ]
    }
   ],
   "source": [
    "list1 = [1, 2, 3, 4, 5,6,7]\n",
    "list2 = [5, 6, 7, 18, 15,16,72]\n",
    "uniqueElementList = []\n",
    "\n",
    "print(f\"Elements inside list 1 --> {list1}\")\n",
    "print(f\"Elements inside list 2 --> {list2}\")\n",
    "\n",
    "for i in range(len(list1)):\n",
    "    element_count = list2.count(list1[i])\n",
    "    if element_count == 0:\n",
    "        uniqueElementList.append(list1[i])\n",
    "    else:\n",
    "        list2.remove(list1[i])\n",
    "        \n",
    "\n",
    "uniqueElementList.extend(list2)\n",
    "uniqueElementList.sort()\n",
    "print(f\"unique elements from both input lists are --> {uniqueElementList}\")\n"
   ]
  },
  {
   "cell_type": "markdown",
   "id": "273c8854",
   "metadata": {},
   "source": [
    "###### 4. Write a Python program that takes a list of strings as input and returns the longest string in the list using comparison operators."
   ]
  },
  {
   "cell_type": "code",
   "execution_count": 9,
   "id": "64b276be",
   "metadata": {},
   "outputs": [
    {
     "name": "stdout",
     "output_type": "stream",
     "text": [
      "values inside fruit list are --> ['Apple', 'Banana', 'Cherry', 'Mango', 'Pinneapple']\n",
      "Maximum length string is : Pinneapple\n"
     ]
    }
   ],
   "source": [
    "FruitsList = [\"Apple\" , \"Banana\", \"Cherry\",\"Mango\", \"Pinneapple\"]\n",
    "print(f\"values inside fruit list are --> {FruitsList}\")\n",
    "longestString = -1\n",
    "for element in FruitsList:\n",
    "    if len(element) > longestString:\n",
    "        longestString = len(element)\n",
    "        elementValue = element\n",
    " \n",
    "print(\"Maximum length string is : \" + elementValue)"
   ]
  },
  {
   "cell_type": "markdown",
   "id": "6646e41e",
   "metadata": {},
   "source": [
    "###### 5. Write a Python program that takes a set of strings as input and returns a new set containing only the strings with length less than or equal to 5."
   ]
  },
  {
   "cell_type": "code",
   "execution_count": 10,
   "id": "f4715a80",
   "metadata": {},
   "outputs": [
    {
     "name": "stdout",
     "output_type": "stream",
     "text": [
      "Elements inside original set are --> {'Watermelon', 'Banana', 'Mango', 'Apple', 'Peach', 'Cherry', 'Pinneapple', 'Kiwi'}\n",
      "Elements inside new set are --> {'Mango', 'Apple', 'Peach', 'Kiwi'}\n"
     ]
    }
   ],
   "source": [
    "fruitsSet = {\"Apple\", \"Peach\", \"Mango\",\"Kiwi\",\"Watermelon\",\"Banana\", \"Cherry\",\"Mango\", \"Pinneapple\"}\n",
    "newSet = set()\n",
    "for element in fruitsSet:\n",
    "    if len(element) <= 5:\n",
    "        newSet.add(element)\n",
    "\n",
    "print(f\"Elements inside original set are --> {fruitsSet}\")\n",
    "print(f\"Elements inside new set are --> {newSet}\")"
   ]
  },
  {
   "cell_type": "markdown",
   "id": "6eb94294",
   "metadata": {},
   "source": [
    "###### 6. Write a Python program that takes a set of numbers as input and returns a new set containing only the odd numbers in the original set."
   ]
  },
  {
   "cell_type": "code",
   "execution_count": 11,
   "id": "f896ee8e",
   "metadata": {},
   "outputs": [
    {
     "name": "stdout",
     "output_type": "stream",
     "text": [
      "Elements inside original set are --> {1, 2, 3, 4, 5, 6, 7, 8, 9, 10}\n",
      "Elements inside odd set are --> {1, 3, 5, 7, 9}\n"
     ]
    }
   ],
   "source": [
    "numberSet = {1,2,3,4,5,6,7,8,9,10}\n",
    "oddSet = set()\n",
    "for element in numberSet:\n",
    "    if element % 2 != 0:\n",
    "        oddSet.add(element)\n",
    "        \n",
    "print(f\"Elements inside original set are --> {numberSet}\")\n",
    "print(f\"Elements inside odd set are --> {oddSet}\")       "
   ]
  },
  {
   "cell_type": "markdown",
   "id": "2c28e8ef",
   "metadata": {},
   "source": [
    "###### 7. Write a Python program that takes a dictionary as input and returns the key with the highest value."
   ]
  },
  {
   "cell_type": "code",
   "execution_count": 12,
   "id": "843eaf59",
   "metadata": {},
   "outputs": [
    {
     "name": "stdout",
     "output_type": "stream",
     "text": [
      "Key number key2 has highest value 300\n"
     ]
    }
   ],
   "source": [
    "yearDictionary = {\n",
    "  \"key1\": 100,\n",
    "  \"key2\": 300,\n",
    "  \"key3\": 200\n",
    "}\n",
    "key_max_value = max(yearDictionary,key = yearDictionary.get)\n",
    "max_value = max(yearDictionary.values())\n",
    "print(f\"Key number {key_max_value} has highest value {max_value}\")"
   ]
  },
  {
   "cell_type": "markdown",
   "id": "0a0af594",
   "metadata": {},
   "source": [
    "###### 8. Write a Python program that takes two sets as input and returns a new set containing the elements that are only in one of the input sets using comparison operators."
   ]
  },
  {
   "cell_type": "code",
   "execution_count": 13,
   "id": "97ad7949",
   "metadata": {},
   "outputs": [
    {
     "name": "stdout",
     "output_type": "stream",
     "text": [
      "Elements inside set 1 --> {1, 2, 3, 4, 5}\n",
      "Elements inside set 2 --> {4, 5, 6, 7, 8, 9, 10}\n",
      "elements that are only in one of the input sets are  --> \n",
      " {1, 2, 3}\n"
     ]
    }
   ],
   "source": [
    "import operator as op\n",
    "number1 = {1,2,3,4,5}\n",
    "number2 = {4,5,6,7,8,9,10}\n",
    "print(f\"Elements inside set 1 --> {number1}\")\n",
    "print(f\"Elements inside set 2 --> {number2}\")\n",
    "\n",
    "number1 = list(number1)\n",
    "number2 = list(number2)\n",
    "uniqueElement= list()\n",
    "\n",
    "\n",
    "for i in range(len(number1)):\n",
    "    element_count = op.countOf(number2, number1[i])\n",
    "    if element_count == 0:\n",
    "        uniqueElement.append(number1[i])\n",
    "\n",
    "uniqueElement.sort()\n",
    "print(f\"elements that are only in one of the input sets are  --> \\n {set(uniqueElement)}\")\n"
   ]
  },
  {
   "cell_type": "markdown",
   "id": "e7fc0f7a",
   "metadata": {},
   "source": [
    "###### 9. Write a Python program that takes a list of dictionaries as input and returns a new list containing only the dictionaries where the value of a specific key is equal to a certain value using comparison operators."
   ]
  },
  {
   "cell_type": "code",
   "execution_count": 14,
   "id": "ea6634f3",
   "metadata": {},
   "outputs": [
    {
     "name": "stdout",
     "output_type": "stream",
     "text": [
      "Original List containing all dictionaries\n",
      "[{'name': 'John', 'age': 36, 'country': 'Norway'}, {'name': 'Ankit', 'age': 19, 'country': 'India'}, {'name': 'Shikha', 'age': 16, 'country': 'Canada'}, {'name': 'Radha', 'age': 18, 'country': 'America'}]\n",
      "--------------------------------------------\n",
      "--------------------------------------------\n",
      "Generated List containing dictionaries whoes value of age greater than or equal to 18\n",
      "[{'name': 'John', 'age': 36, 'country': 'Norway'}, {'name': 'Ankit', 'age': 19, 'country': 'India'}, {'name': 'Radha', 'age': 18, 'country': 'America'}]\n"
     ]
    }
   ],
   "source": [
    "listOfDict = []\n",
    "SelectedlistOfDict = []\n",
    "dataDict1 = dict(name = \"John\", age = 36, country = \"Norway\")\n",
    "dataDict2 = dict(name = \"Ankit\", age = 19, country = \"India\")\n",
    "dataDict3 = dict(name = \"Shikha\", age = 16, country = \"Canada\")\n",
    "dataDict4 = dict(name = \"Radha\", age = 18, country = \"America\")\n",
    "\n",
    "listOfDict.append(dataDict1)\n",
    "listOfDict.append(dataDict2)\n",
    "listOfDict.append(dataDict3)\n",
    "listOfDict.append(dataDict4)\n",
    "\n",
    "for element in listOfDict:\n",
    "    if element[\"age\"] >= 18:\n",
    "        EligibleAge = element[\"age\"]\n",
    "        EligibleName = element[\"name\"]\n",
    "        EligibleCountry = element[\"country\"]\n",
    "        dataDict = dict(name = EligibleName,\n",
    "                        age = EligibleAge,\n",
    "                        country = EligibleCountry)\n",
    "        SelectedlistOfDict.append(dataDict)\n",
    "    \n",
    "print(\"Original List containing all dictionaries\")       \n",
    "print(listOfDict)\n",
    "print(\"--------------------------------------------\")\n",
    "print(\"--------------------------------------------\")\n",
    "print(\"Generated List containing dictionaries whoes value of age greater than or equal to 18\")       \n",
    "print(SelectedlistOfDict)\n"
   ]
  },
  {
   "cell_type": "markdown",
   "id": "8658b6a2",
   "metadata": {},
   "source": [
    "###### 10. Write a Python program that takes a dictionary of strings as input and returns a new dictionary containing only the key-value pairs where the value is a string with length greater than 5."
   ]
  },
  {
   "cell_type": "code",
   "execution_count": 15,
   "id": "4df6eda7",
   "metadata": {},
   "outputs": [
    {
     "name": "stdout",
     "output_type": "stream",
     "text": [
      "values inside original dictionary are --> {'Name1': 'Apple', 'Name2': 'Peach', 'Name3': 'Mango', 'Name4': 'Kiwi', 'Name5': 'Pinneapple', 'Name6': 123456789, 'Name7': 56.12345, 'Name8': 'Watermelon'}\n",
      "-----------------------------------------------------\n",
      "-----------------------------------------------------\n",
      "\n",
      "values inside generated dictionary with value length greater than 5 are {'Name5': 'Pinneapple', 'Name8': 'Watermelon'}\n"
     ]
    }
   ],
   "source": [
    "TestDict = {\n",
    "    \"Name1\" : \"Apple\", \n",
    "    \"Name2\" : \"Peach\",\n",
    "    \"Name3\" : \"Mango\",\n",
    "    \"Name4\" : \"Kiwi\",\n",
    "    \"Name5\" : \"Pinneapple\",\n",
    "    \"Name6\" : 123456789,\n",
    "    \"Name7\" : 56.12345,\n",
    "    \"Name8\" : \"Watermelon\"\n",
    "}\n",
    "newDict = dict()\n",
    "for key,value in TestDict.items():\n",
    "    if type(value) == str and len(value) > 5:\n",
    "           newDict.update({key : value})\n",
    "\n",
    "\n",
    "print(f\"values inside original dictionary are --> {TestDict}\")\n",
    "print(f\"-----------------------------------------------------\")\n",
    "print(f\"-----------------------------------------------------\\n\")\n",
    "print(f\"values inside generated dictionary with value length greater than 5 are {newDict}\")"
   ]
  },
  {
   "cell_type": "markdown",
   "id": "f2d50fbb",
   "metadata": {},
   "source": [
    "###### 11.Write a Python program that takes an integer as input and outputs the sum of the first n natural numbers using a for loop."
   ]
  },
  {
   "cell_type": "code",
   "execution_count": 16,
   "id": "a1b9fc84",
   "metadata": {},
   "outputs": [
    {
     "name": "stdout",
     "output_type": "stream",
     "text": [
      "please enter only interger value: 5\n",
      "sum of the first n natural numbers is :  15\n"
     ]
    }
   ],
   "source": [
    "intValue = int(input(\"please enter only interger value: \"))\n",
    "sumValue = 0\n",
    "for n in range(1, intValue+1):\n",
    "        sumValue = sumValue + n\n",
    "\n",
    "print(\"sum of the first n natural numbers is : \", sumValue)\n"
   ]
  },
  {
   "cell_type": "markdown",
   "id": "5f513879",
   "metadata": {},
   "source": [
    "###### 12. Write a Python program that takes a list of integers as input and outputs the second smallest integer in the list using a for loop."
   ]
  },
  {
   "cell_type": "code",
   "execution_count": 17,
   "id": "7dd9db25",
   "metadata": {},
   "outputs": [
    {
     "name": "stdout",
     "output_type": "stream",
     "text": [
      "The value of second smallest value is 8\n",
      "The value of first smallest value is 5\n"
     ]
    }
   ],
   "source": [
    "intValuelist = [15, 16, 27, 8, 5,66,72]\n",
    "secondSmallValue = -1\n",
    "firstSmallestValue = intValuelist[0]\n",
    "\n",
    "for element in intValuelist[1:]:\n",
    "    if element < firstSmallestValue:\n",
    "        secondSmallValue = firstSmallestValue\n",
    "        firstSmallestValue = element\n",
    "    elif secondSmallValue == -1 or secondSmallValue > element:\n",
    "        secondSmallValue = element\n",
    "        \n",
    "print(f\"The value of second smallest value is {secondSmallValue}\")\n",
    "print(f\"The value of first smallest value is {firstSmallestValue}\")"
   ]
  },
  {
   "cell_type": "markdown",
   "id": "1f80d99c",
   "metadata": {},
   "source": [
    "###### 13. Write a Python program that takes a list of strings as input and outputs the string with the most vowels using a for loop"
   ]
  },
  {
   "cell_type": "code",
   "execution_count": 18,
   "id": "5e2ffe5c",
   "metadata": {},
   "outputs": [
    {
     "name": "stdout",
     "output_type": "stream",
     "text": [
      "maximum number of vowels 4 found in Pinneapple\n"
     ]
    }
   ],
   "source": [
    "import re\n",
    "\n",
    "FruitsList = [\"Apple\" , \"Banana\", \"Cherry\",\"Mango\", \"Pinneapple\"]\n",
    "\n",
    "maxVowelStr = \"\"\n",
    "maxVowelCount = -1\n",
    "for string in FruitsList[1:]:\n",
    "    vowels = re.findall(\"a|e|i|o|u\", string.lower())\n",
    "    if maxVowelCount == -1 or maxVowelCount < len(vowels):\n",
    "        maxVowelCount = len(vowels)\n",
    "        maxVowelStr = str(string)\n",
    "                            \n",
    "    \n",
    "print(f\"maximum number of vowels {maxVowelCount} found in {maxVowelStr}\")"
   ]
  },
  {
   "cell_type": "markdown",
   "id": "07193775",
   "metadata": {},
   "source": [
    "###### 14. Write a Python program that takes an integer as input and determines whether the number is an Armstrong number or not.\n",
    "An Armstrong number is a number that is equal to the sum of its own digits raised to the power of the number of digits. For example, 153 is an Armstrong number because 1^3 + 5^3 + 3^3 = 153."
   ]
  },
  {
   "cell_type": "code",
   "execution_count": 19,
   "id": "116acbcc",
   "metadata": {},
   "outputs": [
    {
     "name": "stdout",
     "output_type": "stream",
     "text": [
      "Please enter only interger value:--> 153\n",
      "It is an Armstrong number\n"
     ]
    }
   ],
   "source": [
    "import math\n",
    "number = int(input(\"Please enter only interger value:--> \"))\n",
    "sumValue = 0\n",
    "tempValue = number\n",
    "\n",
    "while tempValue > 0:\n",
    "    digit = tempValue % 10\n",
    "    sumValue = sumValue + math.pow(digit, len(str(number)))\n",
    "    tempValue = tempValue//10\n",
    " \n",
    "if sumValue==number:\n",
    "    print('It is an Armstrong number')\n",
    "else:\n",
    "    print('It is not an Armstrong number')"
   ]
  },
  {
   "cell_type": "markdown",
   "id": "266afade",
   "metadata": {},
   "source": [
    "###### 15. Write a program to print first n prime numbers till a given limit by user. Ex - If user has given the input as 50 so you need to show prime numbers till 50."
   ]
  },
  {
   "cell_type": "code",
   "execution_count": 20,
   "id": "f46d392e",
   "metadata": {},
   "outputs": [
    {
     "name": "stdout",
     "output_type": "stream",
     "text": [
      "Please enter only interger value:--> 50\n",
      "The values of prime number till 50 are :-->\n",
      "2,3,5,7,11,13,17,19,23,29,31,37,41,43,47,"
     ]
    }
   ],
   "source": [
    "userInput = int(input(\"Please enter only interger value:--> \"))\n",
    "print(f\"The values of prime number till {userInput} are :-->\")\n",
    "for num in range(2,userInput+1):\n",
    "    flagValue=0\n",
    "    for j in range(2,int(num/2)+1):\n",
    "        if(num%j==0):\n",
    "            flagValue=1\n",
    "            break  \n",
    "    if(flagValue==0):\n",
    "        print(num,end=\",\")\n",
    "       "
   ]
  },
  {
   "cell_type": "code",
   "execution_count": null,
   "id": "d9bb0cfe",
   "metadata": {},
   "outputs": [],
   "source": []
  }
 ],
 "metadata": {
  "kernelspec": {
   "display_name": "Python 3 (ipykernel)",
   "language": "python",
   "name": "python3"
  },
  "language_info": {
   "codemirror_mode": {
    "name": "ipython",
    "version": 3
   },
   "file_extension": ".py",
   "mimetype": "text/x-python",
   "name": "python",
   "nbconvert_exporter": "python",
   "pygments_lexer": "ipython3",
   "version": "3.11.4"
  }
 },
 "nbformat": 4,
 "nbformat_minor": 5
}
