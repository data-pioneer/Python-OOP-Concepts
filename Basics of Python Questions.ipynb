{
 "cells": [
  {
   "cell_type": "markdown",
   "id": "11cd0751",
   "metadata": {},
   "source": [
    "#### 1. Write a Python program that asks the user to enter their name and prints a greeting that says \"Hello, [name]!\"."
   ]
  },
  {
   "cell_type": "code",
   "execution_count": 2,
   "id": "74c378fc",
   "metadata": {},
   "outputs": [
    {
     "name": "stdout",
     "output_type": "stream",
     "text": [
      "Enter the name: Everyone, All the best\n",
      "Hello, Everyone, All the best!\n"
     ]
    }
   ],
   "source": [
    "name = input( \"Enter the name: \" )\n",
    "#print( f\"Hello {name} !\")\n",
    "print(\"Hello, \" + name + \"!\")"
   ]
  },
  {
   "cell_type": "markdown",
   "id": "c1c51866",
   "metadata": {},
   "source": [
    "#### 2. Write a Python program that asks the user to enter their age and prints a message that says \"You are [age] years old\"."
   ]
  },
  {
   "cell_type": "code",
   "execution_count": 13,
   "id": "2ba106bc",
   "metadata": {},
   "outputs": [
    {
     "name": "stdout",
     "output_type": "stream",
     "text": [
      "Enter your age: 32\n",
      "You are 32 years old\n"
     ]
    }
   ],
   "source": [
    "age = int(input( \"Enter your age: \"))\n",
    "print( f\"You are {age} years old\")"
   ]
  },
  {
   "cell_type": "markdown",
   "id": "f5a01b7f",
   "metadata": {},
   "source": [
    "#### 3. Write a Python program that asks the user to enter two numbers, calculates their sum, and prints the result."
   ]
  },
  {
   "cell_type": "code",
   "execution_count": 15,
   "id": "8122f83f",
   "metadata": {},
   "outputs": [
    {
     "name": "stdout",
     "output_type": "stream",
     "text": [
      "Enter first number: 12\n",
      "Enter second number: 21\n",
      "Result = 33\n"
     ]
    }
   ],
   "source": [
    "first_num = int(input( \"Enter first number: \"))\n",
    "second_num = int(input( \"Enter second number: \"))\n",
    "result = first_num + second_num\n",
    "print( f\"Result = {result}\")"
   ]
  },
  {
   "cell_type": "markdown",
   "id": "fbdaed1b",
   "metadata": {},
   "source": [
    "#### 4. Write a Python program that asks the user to enter a sentence and prints the sentence with every word capitalized."
   ]
  },
  {
   "cell_type": "code",
   "execution_count": 17,
   "id": "1f166219",
   "metadata": {},
   "outputs": [
    {
     "name": "stdout",
     "output_type": "stream",
     "text": [
      "enter any sentenceenter any sentence\n",
      "ENTER ANY SENTENCE\n"
     ]
    }
   ],
   "source": [
    "sentence = input(\"enter any sentence\")\n",
    "print(sentence.upper())"
   ]
  },
  {
   "cell_type": "markdown",
   "id": "b4f319b1",
   "metadata": {},
   "source": [
    "#### 5. Write a Python program that asks the user to enter a string and checks whether the string is a palindrome or not."
   ]
  },
  {
   "cell_type": "code",
   "execution_count": 23,
   "id": "6436467e",
   "metadata": {},
   "outputs": [
    {
     "name": "stdout",
     "output_type": "stream",
     "text": [
      "enter any string: madam\n",
      "string is a palindrome \n"
     ]
    }
   ],
   "source": [
    "string = input(\"enter any string: \")\n",
    "reverse_string = string[::-1]\n",
    "if(string == reverse_string):\n",
    "    print(\"string is a palindrome \")\n",
    "else: \n",
    "     print(\"string is not palindrome\")"
   ]
  },
  {
   "cell_type": "markdown",
   "id": "4e9e682d",
   "metadata": {},
   "source": [
    "#### 6. Write a Python program that asks the user to enter a temperature in Celsius and converts it to Fahrenheit."
   ]
  },
  {
   "cell_type": "code",
   "execution_count": 25,
   "id": "a10bd77f",
   "metadata": {},
   "outputs": [
    {
     "name": "stdout",
     "output_type": "stream",
     "text": [
      "Enter a temperature in celsius: 36\n",
      "Temperature in Celsius is 36.0\n",
      "Temperature in Fahrenheit is 96.8\n"
     ]
    }
   ],
   "source": [
    "celsius = float(input(\"Enter a temperature in celsius: \")) \n",
    "fahrenheit = (celsius * 1.8) + 32\n",
    "print(f\"Temperature in Celsius is {celsius}\")\n",
    "print(f\"Temperature in Fahrenheit is {fahrenheit}\")"
   ]
  },
  {
   "cell_type": "markdown",
   "id": "c4e1f617",
   "metadata": {},
   "source": [
    "#### 7. Write a Python program that asks the user to enter a number and checks whether it is a prime number or not."
   ]
  },
  {
   "cell_type": "code",
   "execution_count": 4,
   "id": "494e61ad",
   "metadata": {},
   "outputs": [],
   "source": [
    "def isNumberPrime(number):\n",
    "    if number < 2:\n",
    "        return False\n",
    "    for i in range(2, int(number**0.5) + 1):\n",
    "        if number % i == 0:\n",
    "            return False\n",
    "    return True\n"
   ]
  },
  {
   "cell_type": "code",
   "execution_count": 5,
   "id": "dca52298",
   "metadata": {},
   "outputs": [
    {
     "name": "stdout",
     "output_type": "stream",
     "text": [
      "Enter any number: 5\n",
      "5 is a prime number\n"
     ]
    }
   ],
   "source": [
    "# Input from the user\n",
    "number = int(input(\"Enter any number: \"))\n",
    "\n",
    "if isNumberPrime(number):\n",
    "    print(number, \"is a prime number\")\n",
    "else:\n",
    "    print(number, \"is not a prime number\")"
   ]
  },
  {
   "cell_type": "code",
   "execution_count": null,
   "id": "04b3b4f0",
   "metadata": {},
   "outputs": [],
   "source": []
  }
 ],
 "metadata": {
  "kernelspec": {
   "display_name": "Python 3 (ipykernel)",
   "language": "python",
   "name": "python3"
  },
  "language_info": {
   "codemirror_mode": {
    "name": "ipython",
    "version": 3
   },
   "file_extension": ".py",
   "mimetype": "text/x-python",
   "name": "python",
   "nbconvert_exporter": "python",
   "pygments_lexer": "ipython3",
   "version": "3.11.4"
  }
 },
 "nbformat": 4,
 "nbformat_minor": 5
}
